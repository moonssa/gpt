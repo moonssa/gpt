{
 "cells": [
  {
   "cell_type": "code",
   "execution_count": 68,
   "metadata": {},
   "outputs": [
    {
     "name": "stdout",
     "output_type": "stream",
     "text": [
      "\n",
      "\n",
      "\u001b[1m> Entering new AgentExecutor chain...\u001b[0m\n",
      "\u001b[32;1m\u001b[1;3m\n",
      "Invoking: `WikipediaSearchTool` with `{'query': 'xz backdoor'}`\n",
      "\n",
      "\n",
      "\u001b[0m\u001b[36;1m\u001b[1;3mPage: XZ Utils backdoor\n",
      "Summary: On 29 March 2024, software developer Andres Freund reported that he had found a maliciously introduced backdoor in the Linux utility xz within the liblzma library in versions 5.6.0 and 5.6.1 released in February 2024.While xz is commonly present in most Linux distributions, at the time of discovery the backdoored version had not yet been widely deployed to production systems, but was present in development versions of major distributions.The backdoor gives an attacker who possesses a specific Ed448 private key remote code execution capabilities on the affected Linux system. The issue has been given the Common Vulnerabilities and Exposures number CVE-2024-3094 and has been assigned a CVSS score of 10.0, the highest possible score.\n",
      "\n",
      "Page: XZ Utils\n",
      "Summary: XZ Utils (previously LZMA Utils) is a set of free software command-line lossless data compressors, including the programs lzma and xz, for Unix-like operating systems and, from version 5.0 onwards, Microsoft Windows. For compression/decompression the Lempel–Ziv–Markov chain algorithm (LZMA) is used. XZ Utils started as a Unix port of Igor Pavlov's LZMA-SDK that has been adapted to fit seamlessly into Unix environments and their usual structure and behavior.\n",
      "\n",
      "Page: Backdoor (computing)\n",
      "Summary: A backdoor is a typically covert method of bypassing normal authentication or encryption in a computer, product, embedded device (e.g. a home router), or its embodiment (e.g. part of a cryptosystem, algorithm, chipset, or even a \"homunculus computer\"—a tiny computer-within-a-computer such as that found in Intel's AMT technology). Backdoors are most often used for securing remote access to a computer, or obtaining access to plaintext in cryptosystems. From there it may be used to gain access to privileged information like passwords, corrupt or delete data on hard drives, or transfer information within autoschediastic networks.\n",
      "A backdoor may take the form of a hidden part of a program, a separate program (e.g. Back Orifice may subvert the system through a rootkit), code in the firmware of the hardware, or parts of an operating system such as Windows. Trojan horses can be used to create vulnerabilities in a device. A Trojan horse may appear to be an entirely legitimate program, but when executed, it triggers an activity that may install a backdoor. Although some are secretly installed, other backdoors are deliberate and widely known. These kinds of backdoors have \"legitimate\" uses such as providing the manufacturer with a way to restore user passwords.\n",
      "Many systems that store information within the cloud fail to create accurate security measures. If many systems are connected within the cloud, hackers can gain access to all other platforms through the most vulnerable system. Default passwords (or other default credentials) can function as backdoors if they are not changed by the user. Some debugging features can also act as backdoors if they are not removed in the release version. In 1993, the United States government attempted to deploy an encryption system, the Clipper chip, with an explicit backdoor for law enforcement and national security access. The chip was unsuccessful.Recent proposals to counter backdoors include creating a database of backdoors' triggers and then using neural networks to detect them.\u001b[0m\u001b[32;1m\u001b[1;3m\n",
      "Invoking: `DuckDuckGoSearchTool` with `{'query': 'xz backdoor'}`\n",
      "\n",
      "\n",
      "\u001b[0m\u001b[33;1m\u001b[1;3m[snippet: What Does the Backdoor Do? Malicious code added to xz Utils versions 5.6.0 and 5.6.1 modified the way the software functions. The backdoor manipulated sshd, the executable file used to make remote ..., title: The XZ Backdoor: Everything You Need to Know | WIRED, link: https://www.wired.com/story/xz-backdoor-everything-you-need-to-know/], [snippet: That operation matches the style of the XZ Utils backdoor far more than the cruder supply chain attacks of APT41 or Lazarus, by comparison. \"It could very well be someone else,\" says Aitel., title: The Mystery of 'Jia Tan,' the XZ Backdoor Mastermind | WIRED, link: https://www.wired.com/story/jia-tan-xz-backdoor/], [snippet: On March 28, 2024 a backdoor was identified in XZ Utils. This vulnerability, CVE-2024-3094 with a CVSS score of 10 is a result of a software supply chain compromise impacting versions 5.6.0 and 5.6.1 of XZ Utils. The U.S. Cybersecurity and Infrastructure Security Agency (CISA) has recommended organizations to downgrade to a previous non-compromised XZ Utils version., title: Microsoft FAQ and guidance for XZ Utils backdoor, link: https://techcommunity.microsoft.com/t5/microsoft-defender-vulnerability/microsoft-faq-and-guidance-for-xz-utils-backdoor/ba-p/4101961], [snippet: The version of XZ should be carefully checked, as versions 5.6.0 and 5.6.1 contain the backdoor. It is advised to revert to a previous known safe version of XZ Utils, such as 5.4. Software supply ..., title: XZ Utils Supply Chain Attack: A Threat Actor Spent Two Years to ..., link: https://www.techrepublic.com/article/xz-backdoor-linux/]\u001b[0m\u001b[32;1m\u001b[1;3mI found information about the xz backdoor on Wikipedia and DuckDuckGo:\n",
      "\n",
      "### Wikipedia:\n",
      "- **Page**: [XZ Utils backdoor](https://en.wikipedia.org/wiki/XZ_Utils_backdoor)\n",
      "- **Summary**: The xz backdoor was discovered in the Linux utility xz within the liblzma library in versions 5.6.0 and 5.6.1. The backdoor allows an attacker remote code execution capabilities on the affected Linux system.\n",
      "\n",
      "### DuckDuckGo:\n",
      "- **[WIRED Article: The XZ Backdoor: Everything You Need to Know](https://www.wired.com/story/xz-backdoor-everything-you-need-to-know/)**: Provides details about the malicious code added to xz Utils versions 5.6.0 and 5.6.1.\n",
      "- **[WIRED Article: The Mystery of 'Jia Tan,' the XZ Backdoor Mastermind](https://www.wired.com/story/jia-tan-xz-backdoor/)**: Discusses the mastermind behind the xz backdoor.\n",
      "- **[Microsoft FAQ and guidance for XZ Utils backdoor](https://techcommunity.microsoft.com/t5/microsoft-defender-vulnerability/microsoft-faq-and-guidance-for-xz-utils-backdoor/ba-p/4101961)**: Provides guidance on dealing with the xz backdoor vulnerability.\n",
      "- **[TechRepublic Article: XZ Utils Supply Chain Attack](https://www.techrepublic.com/article/xz-backdoor-linux/)**: Details the software supply chain attack related to the xz backdoor.\n",
      "\n",
      "Feel free to explore these sources for more detailed information on the xz backdoor. Let me know if you need further assistance!\u001b[0m\n",
      "\n",
      "\u001b[1m> Finished chain.\u001b[0m\n"
     ]
    }
   ],
   "source": [
    "from typing import Any, Type\n",
    "from langchain.chat_models import ChatOpenAI\n",
    "from langchain.tools import BaseTool\n",
    "from pydantic import BaseModel, Field\n",
    "from langchain.agents import initialize_agent, AgentType\n",
    "from langchain.utilities import  WikipediaAPIWrapper\n",
    "from langchain.tools import DuckDuckGoSearchResults\n",
    "\n",
    "\n",
    "llm = ChatOpenAI(temperature=0.1)\n",
    "\n",
    "class SearchToolArgsSchema(BaseModel):\n",
    "    query: str = Field(\n",
    "        description=\"The query you will search for.Example query: Research about the xz backdoor\"\n",
    "    )\n",
    "class WikipediaSearchTool(BaseTool):\n",
    "    name = \"WikipediaSearchTool\"\n",
    "    description = \"\"\"\n",
    "    Use this tool to search for information on the xz backdoor.\n",
    "    It takes a query as an argument.\n",
    "    \n",
    "    \"\"\"\n",
    "    args_schema: Type[\n",
    "        SearchToolArgsSchema\n",
    "    ] = SearchToolArgsSchema\n",
    "\n",
    "\n",
    "    def _run(self, query):\n",
    "        wiki = WikipediaAPIWrapper()\n",
    "        results= wiki.run(query)\n",
    "        with open('output.txt', 'w') as file:\n",
    "            file.write(\"Wikipedia Results:\\n\" + results + \"\\n\\n\")\n",
    "        return results\n",
    "\n",
    "class DuckDuckGoSearchTool(BaseTool):\n",
    "    name = \"DuckDuckGoSearchTool\"\n",
    "    description = \"\"\"\n",
    "    Use this tool to search for information on the xz backdoor.\n",
    "    It takes a query as an argument.\n",
    "    \n",
    "    \"\"\"\n",
    "    args_schema: Type[\n",
    "        SearchToolArgsSchema\n",
    "    ] = SearchToolArgsSchema\n",
    "\n",
    "    def _run(self, query):\n",
    "        ddg = DuckDuckGoSearchResults()\n",
    "        results = ddg.run(query)\n",
    "        with open('output.txt', 'a') as file:\n",
    "            file.write(\"DuckDuckGo Results:\\n\" + results + \"\\n\\n\")\n",
    "        return results\n",
    "\n",
    "\n",
    "agent = initialize_agent(\n",
    "    llm=llm,\n",
    "    verbose=True,\n",
    "    agent=AgentType.OPENAI_FUNCTIONS,\n",
    "    handle_parsing_errors=True,\n",
    "    tools=[\n",
    "        WikipediaSearchTool(),\n",
    "        DuckDuckGoSearchTool()\n",
    "    ],\n",
    ")\n",
    "\n",
    "prompt = \"Research about the xz backdoor in wikipedia and duckduckgo sites\"\n",
    "\n",
    "output = agent.invoke(prompt)\n"
   ]
  },
  {
   "cell_type": "code",
   "execution_count": 76,
   "metadata": {},
   "outputs": [],
   "source": [
    "from langchain.utilities.duckduckgo_search import DuckDuckGoSearchAPIWrapper\n",
    "from langchain.utilities import  WikipediaAPIWrapper\n",
    "\n",
    "\n",
    "def get_wikipedia(inputs):\n",
    "    wiki = WikipediaAPIWrapper()\n",
    "    \n",
    "    query = inputs[\"query\"]\n",
    "    \n",
    "    return wiki.run(f\"research of  {query}\")\n",
    "\n",
    "\n",
    "\n",
    "def get_duckduckgo(inputs):\n",
    "    query= inputs[\"query\"]\n",
    "    # ddg =  DuckDuckGoSearchResults()\n",
    "    ddg=DuckDuckGoSearchAPIWrapper()\n",
    "    return ddg.run(f\"research of  {query}\")\n",
    "\n",
    "\n",
    "functions_map = {\n",
    "    \"get_wikipedia\": get_wikipedia,\n",
    "    \"get_duckduckgo\": get_duckduckgo,\n",
    "}\n",
    "\n",
    "functions = [\n",
    "    {\n",
    "        \"type\": \"function\",\n",
    "        \"function\": {\n",
    "            \"name\": \"get_wikipedia\",\n",
    "            \"description\": \"Given the query return the results of searching the Wikipedia site\",\n",
    "            \"parameters\": {\n",
    "                \"type\": \"object\",\n",
    "                \"properties\": {\n",
    "                    \"query\": {\n",
    "                        \"type\": \"string\",\n",
    "                        \"description\": \"query to search for\",\n",
    "                    }\n",
    "                },\n",
    "                \"required\": [\"query\"],\n",
    "            },\n",
    "        },\n",
    "    },\n",
    "    {\n",
    "        \"type\": \"function\",\n",
    "        \"function\": {\n",
    "            \"name\": \"get_duckduckgo\",\n",
    "            \"description\": \"Given the query return the results of searching the DuckDuckGoSearchTo site\",\n",
    "            \"parameters\": {\n",
    "                \"type\": \"object\",\n",
    "                \"properties\": {\n",
    "                    \"query\": {\n",
    "                        \"type\": \"string\",\n",
    "                        \"description\": \"query to search for\",\n",
    "                    },\n",
    "                },\n",
    "                \"required\": [\"query\"],\n",
    "            },\n",
    "        },\n",
    "    },\n",
    "   \n",
    "]\n",
    "\n",
    "\n"
   ]
  },
  {
   "cell_type": "code",
   "execution_count": 95,
   "metadata": {},
   "outputs": [
    {
     "data": {
      "text/plain": [
       "Assistant(id='asst_KNt1YYI4grEcjV7D8kcryRDY', created_at=1713110994, description=None, file_ids=[], instructions='You help users do research information. It takes a query as an argument.', metadata={}, model='gpt-4-1106-preview', name='Search Assistant', object='assistant', tools=[FunctionTool(function=FunctionDefinition(name='get_wikipedia', description='Given the query return the results of searching the Wikipedia site', parameters={'type': 'object', 'properties': {'query': {'type': 'string', 'description': 'query to search for'}}, 'required': ['query']}), type='function'), FunctionTool(function=FunctionDefinition(name='get_duckduckgo', description='Given the query return the results of searching the DuckDuckGoSearchTo site', parameters={'type': 'object', 'properties': {'query': {'type': 'string', 'description': 'query to search for'}}, 'required': ['query']}), type='function')])"
      ]
     },
     "execution_count": 95,
     "metadata": {},
     "output_type": "execute_result"
    }
   ],
   "source": [
    "import openai as client\n",
    "assistant = client.beta.assistants.create(\n",
    "  name=\"Search Assistant\",\n",
    "  instructions=\"You help users do research information. It takes a query as an argument.\",\n",
    "  model=\"gpt-4-1106-preview\",\n",
    "  tools = functions,\n",
    ")\n",
    "assistant\n"
   ]
  },
  {
   "cell_type": "code",
   "execution_count": 100,
   "metadata": {},
   "outputs": [
    {
     "data": {
      "text/plain": [
       "Run(id='run_lGiErJScXiisHWUySKD8PYmk', assistant_id='asst_KNt1YYI4grEcjV7D8kcryRDY', cancelled_at=None, completed_at=None, created_at=1713111099, expires_at=1713111699, failed_at=None, file_ids=[], instructions='You help users do research information. It takes a query as an argument.', last_error=None, metadata={}, model='gpt-4-1106-preview', object='thread.run', required_action=None, started_at=None, status='queued', thread_id='thread_UOxzofc4U6KE1IY6wlxQCE70', tools=[FunctionTool(function=FunctionDefinition(name='get_wikipedia', description='Given the query return the results of searching the Wikipedia site', parameters={'type': 'object', 'properties': {'query': {'type': 'string', 'description': 'query to search for'}}, 'required': ['query']}), type='function'), FunctionTool(function=FunctionDefinition(name='get_duckduckgo', description='Given the query return the results of searching the DuckDuckGoSearchTo site', parameters={'type': 'object', 'properties': {'query': {'type': 'string', 'description': 'query to search for'}}, 'required': ['query']}), type='function')], usage=None, temperature=1.0, max_completion_tokens=None, max_prompt_tokens=None, truncation_strategy={'type': 'auto', 'last_messages': None}, incomplete_details=None, response_format='auto', tool_choice='auto')"
      ]
     },
     "execution_count": 100,
     "metadata": {},
     "output_type": "execute_result"
    }
   ],
   "source": [
    "thread=client.beta.threads.create(\n",
    "  messages=[\n",
    "    {\n",
    "      \"role\":\"user\",\n",
    "      \"content\":\"Research about the xz backdoor\"\n",
    "    }\n",
    "  ]\n",
    ")\n",
    "thread\n",
    "run = client.beta.threads.runs.create(\n",
    "  thread_id=thread.id,\n",
    "  assistant_id=assistant.id\n",
    ")\n",
    "run\n"
   ]
  },
  {
   "cell_type": "code",
   "execution_count": 97,
   "metadata": {},
   "outputs": [],
   "source": [
    "run = client.beta.threads.runs.create(\n",
    "  thread_id=thread.id,\n",
    "  assistant_id=assistant.id\n",
    ")\n",
    "run"
   ]
  },
  {
   "cell_type": "code",
   "execution_count": null,
   "metadata": {},
   "outputs": [],
   "source": []
  },
  {
   "cell_type": "code",
   "execution_count": 78,
   "metadata": {},
   "outputs": [],
   "source": [
    "import json\n",
    "def get_run(run_id, thread_id):\n",
    "    return client.beta.threads.runs.retrieve(\n",
    "        run_id=run_id,\n",
    "        thread_id=thread_id,\n",
    "    )"
   ]
  },
  {
   "cell_type": "code",
   "execution_count": 101,
   "metadata": {},
   "outputs": [
    {
     "data": {
      "text/plain": [
       "'requires_action'"
      ]
     },
     "execution_count": 101,
     "metadata": {},
     "output_type": "execute_result"
    }
   ],
   "source": [
    "get_run(run.id, thread.id).status"
   ]
  },
  {
   "cell_type": "code",
   "execution_count": 85,
   "metadata": {},
   "outputs": [],
   "source": [
    "def get_tool_outputs(run_id, thread_id):\n",
    "    run = get_run(run_id, thread.id)\n",
    "    print(\"*****\", run.required_action.submit_tool_outputs.tool_calls, \"\\n\\n\")\n",
    "    outputs = []\n",
    "    for action in run.required_action.submit_tool_outputs.tool_calls:\n",
    "        action_id = action.id\n",
    "        function = action.function\n",
    "        print(f\"Calling function: {function.name} with arg {function.arguments}\")\n",
    "        outputs.append(\n",
    "            {\n",
    "                \"output\": functions_map[function.name](json.loads(function.arguments)),\n",
    "                \"tool_call_id\": action_id,\n",
    "            }\n",
    "        )\n",
    "    return outputs\n",
    "\n",
    "\n",
    "def submit_tool_outputs(run_id, thread_id):\n",
    "    outputs = get_tool_outputs(run_id, thread_id)\n",
    "    return client.beta.threads.runs.submit_tool_outputs(\n",
    "        run_id=run_id, thread_id=thread_id, tool_outputs=outputs\n",
    "    )"
   ]
  },
  {
   "cell_type": "code",
   "execution_count": 93,
   "metadata": {},
   "outputs": [],
   "source": [
    "def get_run(run_id, thread_id):\n",
    "  return client.beta.threads.runs.retrieve(\n",
    "    run_id=run_id,\n",
    "    thread_id=thread_id\n",
    "  )\n",
    "\n",
    "def send_message(thread_id, content):\n",
    "  return client.beta.threads.messages.create(\n",
    "    thread_id=thread_id, role=\"user\", content=content\n",
    "  )\n",
    "\n",
    "def get_messages(thread_id):\n",
    "  messages = client.beta.threads.messages.list(\n",
    "    thread_id=thread_id\n",
    "  )\n",
    "\n",
    "  messages = list(messages)\n",
    "  print(messages)\n",
    "  for message in messages:\n",
    "    print(f\"{message.role}:{message.content[0].text.value}\")\n",
    "\n",
    "  print(\"===========================================\")\n",
    "  messages.reverse()\n",
    "  print(messages)\n",
    "  for message in messages:\n",
    "    print(f\"{message.role}:{message.content[0].text.value}\")\n"
   ]
  },
  {
   "cell_type": "code",
   "execution_count": 102,
   "metadata": {},
   "outputs": [
    {
     "name": "stdout",
     "output_type": "stream",
     "text": [
      "===========================================\n"
     ]
    },
    {
     "ename": "AttributeError",
     "evalue": "'SyncCursorPage[Message]' object has no attribute 'reverse'",
     "output_type": "error",
     "traceback": [
      "\u001b[0;31m---------------------------------------------------------------------------\u001b[0m",
      "\u001b[0;31mAttributeError\u001b[0m                            Traceback (most recent call last)",
      "Cell \u001b[0;32mIn[102], line 2\u001b[0m\n\u001b[1;32m      1\u001b[0m \u001b[38;5;66;03m# get_run(run.id, thread.id).status\u001b[39;00m\n\u001b[0;32m----> 2\u001b[0m \u001b[43mget_messages\u001b[49m\u001b[43m(\u001b[49m\u001b[43mthread\u001b[49m\u001b[38;5;241;43m.\u001b[39;49m\u001b[43mid\u001b[49m\u001b[43m)\u001b[49m\n",
      "Cell \u001b[0;32mIn[93], line 23\u001b[0m, in \u001b[0;36mget_messages\u001b[0;34m(thread_id)\u001b[0m\n\u001b[1;32m     17\u001b[0m \u001b[38;5;66;03m# messages = list(messages)\u001b[39;00m\n\u001b[1;32m     18\u001b[0m \u001b[38;5;66;03m# print(messages)\u001b[39;00m\n\u001b[1;32m     19\u001b[0m \u001b[38;5;66;03m# for message in messages:\u001b[39;00m\n\u001b[1;32m     20\u001b[0m \u001b[38;5;66;03m#   print(f\"{message.role}:{message.content[0].text.value}\")\u001b[39;00m\n\u001b[1;32m     22\u001b[0m \u001b[38;5;28mprint\u001b[39m(\u001b[38;5;124m\"\u001b[39m\u001b[38;5;124m===========================================\u001b[39m\u001b[38;5;124m\"\u001b[39m)\n\u001b[0;32m---> 23\u001b[0m \u001b[43mmessages\u001b[49m\u001b[38;5;241;43m.\u001b[39;49m\u001b[43mreverse\u001b[49m()\n\u001b[1;32m     24\u001b[0m \u001b[38;5;28mprint\u001b[39m(messages)\n\u001b[1;32m     25\u001b[0m \u001b[38;5;28;01mfor\u001b[39;00m message \u001b[38;5;129;01min\u001b[39;00m messages:\n",
      "\u001b[0;31mAttributeError\u001b[0m: 'SyncCursorPage[Message]' object has no attribute 'reverse'"
     ]
    }
   ],
   "source": [
    "# get_run(run.id, thread.id).status\n",
    "get_messages(thread.id)"
   ]
  },
  {
   "cell_type": "code",
   "execution_count": 91,
   "metadata": {},
   "outputs": [
    {
     "data": {
      "text/plain": [
       "'completed'"
      ]
     },
     "execution_count": 91,
     "metadata": {},
     "output_type": "execute_result"
    }
   ],
   "source": [
    "get_run(run.id, thread.id).status"
   ]
  },
  {
   "cell_type": "code",
   "execution_count": 90,
   "metadata": {},
   "outputs": [
    {
     "name": "stdout",
     "output_type": "stream",
     "text": [
      "***** [RequiredActionFunctionToolCall(id='call_yBu7w6RTMiqwFPhXw6LwTri6', function=Function(arguments='{\"query\": \"xz backdoor\"}', name='get_wikipedia'), type='function'), RequiredActionFunctionToolCall(id='call_GNTOkuyqCDOGoBdnsqbWOVbU', function=Function(arguments='{\"query\": \"xz backdoor\"}', name='get_duckduckgo'), type='function')] \n",
      "\n",
      "\n",
      "Calling function: get_wikipedia with arg {\"query\": \"xz backdoor\"}\n",
      "Calling function: get_duckduckgo with arg {\"query\": \"xz backdoor\"}\n"
     ]
    },
    {
     "data": {
      "text/plain": [
       "Run(id='run_pZF0BavupJ8Fpxajwd4e6fAf', assistant_id='asst_yoTz0fGp7N1679kWkdN2nFhy', cancelled_at=None, completed_at=None, created_at=1713103494, expires_at=1713104094, failed_at=None, file_ids=[], instructions='You help users do research information. It takes a query as an argument.', last_error=None, metadata={}, model='gpt-4-1106-preview', object='thread.run', required_action=None, started_at=1713103494, status='queued', thread_id='thread_Lx9tGC3fIkerxxRL1N4z3q5P', tools=[FunctionTool(function=FunctionDefinition(name='get_wikipedia', description='Given the query return the results of searching the Wikipedia site', parameters={'type': 'object', 'properties': {'query': {'type': 'string', 'description': 'query to search for'}}, 'required': ['query']}), type='function'), FunctionTool(function=FunctionDefinition(name='get_duckduckgo', description='Given the query return the results of searching the DuckDuckGoSearchTo site', parameters={'type': 'object', 'properties': {'query': {'type': 'string', 'description': 'query to search for'}}, 'required': ['query']}), type='function')], usage=None, temperature=1.0, max_completion_tokens=None, max_prompt_tokens=None, truncation_strategy={'type': 'auto', 'last_messages': None}, incomplete_details=None, response_format='auto', tool_choice='auto')"
      ]
     },
     "execution_count": 90,
     "metadata": {},
     "output_type": "execute_result"
    }
   ],
   "source": [
    "submit_tool_outputs(run.id, thread.id)"
   ]
  },
  {
   "cell_type": "code",
   "execution_count": 92,
   "metadata": {},
   "outputs": [
    {
     "name": "stdout",
     "output_type": "stream",
     "text": [
      "[Message(id='msg_Px4g0VrrkdiQxh1xXP0H4B99', assistant_id='asst_yoTz0fGp7N1679kWkdN2nFhy', completed_at=None, content=[TextContentBlock(text=Text(annotations=[], value='The xz backdoor appears to be a recently discovered security issue affecting the Linux utility xz, specifically within the liblzma library in versions 5.6.0 and 5.6.1 released in February 2024. The backdoor enables remote code execution by an attacker with a particular Ed448 private key. The affected versions of xz had not yet been widely deployed to production systems by the time of discovery but were present in the development versions of major Linux distributions.\\n\\nThis backdoor was reported by software developer Andres Freund on March 29, 2024, earning the designation of CVE-2024-3094 with a CVSS score of 10.0, indicating the highest severity level.\\n\\nThe backdoor operates by manipulating the `sshd` (OpenSSH Daemon), which is responsible for secure internet connections via the SSH protocol. This manipulation allows the attacker to gain unauthorized access and potentially perform various malicious activities such as obtaining privileged information, corrupting or deleting data, or transferring information within networks.\\n\\nFurther information reveals that the malicious code was introduced during the packaging of the xz distribution, with an extra, malicious `build-to-host.m4` file added when building a Debian or Red Hat package. This file was not present in the source repository but was slipped in alongside other legitimate files during the packaging process, making it less suspicious.\\n\\nIn the broader context of backdoors, these are methods of bypassing normal authentication or encryption, often used for securing remote access or acquiring sensitive information. They can be part of a program, firmware, or even an operating system and are used by attackers to gain unauthorized access.\\n\\nThe xz backdoor is also an example of a supply chain attack, which targets less secure elements in the production or distribution of software or hardware, often involving tampering with the product to introduce malware or spying components. Supply chain attacks have been on the rise and present a significant threat to organizations across various industries.\\n\\nOverall, the xz backdoor constitutes a severe security threat that has prompted a high-level alert and prompt response from the cybersecurity community to prevent its exploitation.'), type='text')], created_at=1713103532, file_ids=[], incomplete_at=None, incomplete_details=None, metadata={}, object='thread.message', role='assistant', run_id='run_pZF0BavupJ8Fpxajwd4e6fAf', status=None, thread_id='thread_Lx9tGC3fIkerxxRL1N4z3q5P'), Message(id='msg_ABXTajulAnmG8KH8IknZMLwz', assistant_id=None, completed_at=None, content=[TextContentBlock(text=Text(annotations=[], value='Research about the xz backdoor'), type='text')], created_at=1713103487, file_ids=[], incomplete_at=None, incomplete_details=None, metadata={}, object='thread.message', role='user', run_id=None, status=None, thread_id='thread_Lx9tGC3fIkerxxRL1N4z3q5P')]\n",
      "assistant:The xz backdoor appears to be a recently discovered security issue affecting the Linux utility xz, specifically within the liblzma library in versions 5.6.0 and 5.6.1 released in February 2024. The backdoor enables remote code execution by an attacker with a particular Ed448 private key. The affected versions of xz had not yet been widely deployed to production systems by the time of discovery but were present in the development versions of major Linux distributions.\n",
      "\n",
      "This backdoor was reported by software developer Andres Freund on March 29, 2024, earning the designation of CVE-2024-3094 with a CVSS score of 10.0, indicating the highest severity level.\n",
      "\n",
      "The backdoor operates by manipulating the `sshd` (OpenSSH Daemon), which is responsible for secure internet connections via the SSH protocol. This manipulation allows the attacker to gain unauthorized access and potentially perform various malicious activities such as obtaining privileged information, corrupting or deleting data, or transferring information within networks.\n",
      "\n",
      "Further information reveals that the malicious code was introduced during the packaging of the xz distribution, with an extra, malicious `build-to-host.m4` file added when building a Debian or Red Hat package. This file was not present in the source repository but was slipped in alongside other legitimate files during the packaging process, making it less suspicious.\n",
      "\n",
      "In the broader context of backdoors, these are methods of bypassing normal authentication or encryption, often used for securing remote access or acquiring sensitive information. They can be part of a program, firmware, or even an operating system and are used by attackers to gain unauthorized access.\n",
      "\n",
      "The xz backdoor is also an example of a supply chain attack, which targets less secure elements in the production or distribution of software or hardware, often involving tampering with the product to introduce malware or spying components. Supply chain attacks have been on the rise and present a significant threat to organizations across various industries.\n",
      "\n",
      "Overall, the xz backdoor constitutes a severe security threat that has prompted a high-level alert and prompt response from the cybersecurity community to prevent its exploitation.\n",
      "user:Research about the xz backdoor\n",
      "===========================================\n",
      "[Message(id='msg_ABXTajulAnmG8KH8IknZMLwz', assistant_id=None, completed_at=None, content=[TextContentBlock(text=Text(annotations=[], value='Research about the xz backdoor'), type='text')], created_at=1713103487, file_ids=[], incomplete_at=None, incomplete_details=None, metadata={}, object='thread.message', role='user', run_id=None, status=None, thread_id='thread_Lx9tGC3fIkerxxRL1N4z3q5P'), Message(id='msg_Px4g0VrrkdiQxh1xXP0H4B99', assistant_id='asst_yoTz0fGp7N1679kWkdN2nFhy', completed_at=None, content=[TextContentBlock(text=Text(annotations=[], value='The xz backdoor appears to be a recently discovered security issue affecting the Linux utility xz, specifically within the liblzma library in versions 5.6.0 and 5.6.1 released in February 2024. The backdoor enables remote code execution by an attacker with a particular Ed448 private key. The affected versions of xz had not yet been widely deployed to production systems by the time of discovery but were present in the development versions of major Linux distributions.\\n\\nThis backdoor was reported by software developer Andres Freund on March 29, 2024, earning the designation of CVE-2024-3094 with a CVSS score of 10.0, indicating the highest severity level.\\n\\nThe backdoor operates by manipulating the `sshd` (OpenSSH Daemon), which is responsible for secure internet connections via the SSH protocol. This manipulation allows the attacker to gain unauthorized access and potentially perform various malicious activities such as obtaining privileged information, corrupting or deleting data, or transferring information within networks.\\n\\nFurther information reveals that the malicious code was introduced during the packaging of the xz distribution, with an extra, malicious `build-to-host.m4` file added when building a Debian or Red Hat package. This file was not present in the source repository but was slipped in alongside other legitimate files during the packaging process, making it less suspicious.\\n\\nIn the broader context of backdoors, these are methods of bypassing normal authentication or encryption, often used for securing remote access or acquiring sensitive information. They can be part of a program, firmware, or even an operating system and are used by attackers to gain unauthorized access.\\n\\nThe xz backdoor is also an example of a supply chain attack, which targets less secure elements in the production or distribution of software or hardware, often involving tampering with the product to introduce malware or spying components. Supply chain attacks have been on the rise and present a significant threat to organizations across various industries.\\n\\nOverall, the xz backdoor constitutes a severe security threat that has prompted a high-level alert and prompt response from the cybersecurity community to prevent its exploitation.'), type='text')], created_at=1713103532, file_ids=[], incomplete_at=None, incomplete_details=None, metadata={}, object='thread.message', role='assistant', run_id='run_pZF0BavupJ8Fpxajwd4e6fAf', status=None, thread_id='thread_Lx9tGC3fIkerxxRL1N4z3q5P')]\n",
      "user:Research about the xz backdoor\n",
      "assistant:The xz backdoor appears to be a recently discovered security issue affecting the Linux utility xz, specifically within the liblzma library in versions 5.6.0 and 5.6.1 released in February 2024. The backdoor enables remote code execution by an attacker with a particular Ed448 private key. The affected versions of xz had not yet been widely deployed to production systems by the time of discovery but were present in the development versions of major Linux distributions.\n",
      "\n",
      "This backdoor was reported by software developer Andres Freund on March 29, 2024, earning the designation of CVE-2024-3094 with a CVSS score of 10.0, indicating the highest severity level.\n",
      "\n",
      "The backdoor operates by manipulating the `sshd` (OpenSSH Daemon), which is responsible for secure internet connections via the SSH protocol. This manipulation allows the attacker to gain unauthorized access and potentially perform various malicious activities such as obtaining privileged information, corrupting or deleting data, or transferring information within networks.\n",
      "\n",
      "Further information reveals that the malicious code was introduced during the packaging of the xz distribution, with an extra, malicious `build-to-host.m4` file added when building a Debian or Red Hat package. This file was not present in the source repository but was slipped in alongside other legitimate files during the packaging process, making it less suspicious.\n",
      "\n",
      "In the broader context of backdoors, these are methods of bypassing normal authentication or encryption, often used for securing remote access or acquiring sensitive information. They can be part of a program, firmware, or even an operating system and are used by attackers to gain unauthorized access.\n",
      "\n",
      "The xz backdoor is also an example of a supply chain attack, which targets less secure elements in the production or distribution of software or hardware, often involving tampering with the product to introduce malware or spying components. Supply chain attacks have been on the rise and present a significant threat to organizations across various industries.\n",
      "\n",
      "Overall, the xz backdoor constitutes a severe security threat that has prompted a high-level alert and prompt response from the cybersecurity community to prevent its exploitation.\n"
     ]
    }
   ],
   "source": [
    "get_messages(thread.id)"
   ]
  },
  {
   "cell_type": "code",
   "execution_count": 104,
   "metadata": {},
   "outputs": [],
   "source": [
    "user_query=\"Rearch xz backkdoor\"\n",
    "assistant = client.beta.assistants.create(\n",
    "            name=\"Search Assistant\",\n",
    "            instructions=\"You help users do research information. It takes a query as an argument.\",\n",
    "            model=\"gpt-4-1106-preview\",\n",
    "            tools=functions,\n",
    "        )\n",
    "assistant_id=assistant.id\n",
    "\n",
    "thread = client.beta.threads.create(\n",
    "    messages=[{\"role\": \"user\", \"content\": f\"Research about {user_query}\"}]\n",
    ")\n",
    "\n",
    "run = client.beta.threads.runs.create(\n",
    "    thread_id=thread.id, assistant_id=assistant_id\n",
    ")\n"
   ]
  },
  {
   "cell_type": "code",
   "execution_count": 105,
   "metadata": {},
   "outputs": [
    {
     "name": "stdout",
     "output_type": "stream",
     "text": [
      "***** [RequiredActionFunctionToolCall(id='call_lNEnTqGFPquXjKtfc9kTzotY', function=Function(arguments='{\"query\": \"xz backdoor\"}', name='get_wikipedia'), type='function'), RequiredActionFunctionToolCall(id='call_WlD0SZHCoXqsvD2d2MZP2LLL', function=Function(arguments='{\"query\": \"xz backdoor\"}', name='get_duckduckgo'), type='function')] \n",
      "\n",
      "\n",
      "Calling function: get_wikipedia with arg {\"query\": \"xz backdoor\"}\n",
      "Calling function: get_duckduckgo with arg {\"query\": \"xz backdoor\"}\n"
     ]
    },
    {
     "data": {
      "text/plain": [
       "Run(id='run_Cl3fv5GUY7GgMFV9GbDldnDV', assistant_id='asst_JqEyHMBYvzDJW91LUr7IqPcM', cancelled_at=None, completed_at=None, created_at=1713117168, expires_at=1713117768, failed_at=None, file_ids=[], instructions='You help users do research information. It takes a query as an argument.', last_error=None, metadata={}, model='gpt-4-1106-preview', object='thread.run', required_action=None, started_at=1713117168, status='queued', thread_id='thread_ecL0VBp5lksPyMhpJ2W6jBak', tools=[FunctionTool(function=FunctionDefinition(name='get_wikipedia', description='Given the query return the results of searching the Wikipedia site', parameters={'type': 'object', 'properties': {'query': {'type': 'string', 'description': 'query to search for'}}, 'required': ['query']}), type='function'), FunctionTool(function=FunctionDefinition(name='get_duckduckgo', description='Given the query return the results of searching the DuckDuckGoSearchTo site', parameters={'type': 'object', 'properties': {'query': {'type': 'string', 'description': 'query to search for'}}, 'required': ['query']}), type='function')], usage=None, temperature=1.0, max_completion_tokens=None, max_prompt_tokens=None, truncation_strategy={'type': 'auto', 'last_messages': None}, incomplete_details=None, response_format='auto', tool_choice='auto')"
      ]
     },
     "execution_count": 105,
     "metadata": {},
     "output_type": "execute_result"
    }
   ],
   "source": [
    "submit_tool_outputs(run.id, thread.id)"
   ]
  }
 ],
 "metadata": {
  "kernelspec": {
   "display_name": "env",
   "language": "python",
   "name": "python3"
  },
  "language_info": {
   "codemirror_mode": {
    "name": "ipython",
    "version": 3
   },
   "file_extension": ".py",
   "mimetype": "text/x-python",
   "name": "python",
   "nbconvert_exporter": "python",
   "pygments_lexer": "ipython3",
   "version": "3.11.7"
  }
 },
 "nbformat": 4,
 "nbformat_minor": 2
}
