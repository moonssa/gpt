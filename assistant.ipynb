{
 "cells": [
  {
   "cell_type": "markdown",
   "metadata": {},
   "source": []
  },
  {
   "cell_type": "code",
   "execution_count": 2,
   "metadata": {},
   "outputs": [],
   "source": [
    "from langchain.utilities.duckduckgo_search import DuckDuckGoSearchAPIWrapper\n",
    "import yfinance\n",
    "import json\n",
    "\n",
    "\n",
    "def get_ticker(inputs):\n",
    "    ddg = DuckDuckGoSearchAPIWrapper()\n",
    "    company_name = inputs[\"company_name\"]\n",
    "    return ddg.run(f\"Ticker symbol of {company_name}\")\n",
    "\n",
    "\n",
    "def get_income_statement(inputs):\n",
    "    ticker = inputs[\"ticker\"]\n",
    "    stock = yfinance.Ticker(ticker)\n",
    "    return json.dumps(stock.income_stmt.to_json())\n",
    "\n",
    "\n",
    "def get_balance_sheet(inputs):\n",
    "    ticker = inputs[\"ticker\"]\n",
    "    stock = yfinance.Ticker(ticker)\n",
    "    return json.dumps(stock.balance_sheet.to_json())\n",
    "\n",
    "\n",
    "def get_daily_stock_performance(inputs):\n",
    "    ticker = inputs[\"ticker\"]\n",
    "    stock = yfinance.Ticker(ticker)\n",
    "    return json.dumps(stock.history(period=\"3mo\").to_json())\n",
    "\n",
    "\n",
    "functions = [\n",
    "    {\n",
    "        \"type\": \"function\",\n",
    "        \"function\": {\n",
    "            \"name\": \"get_ticker\",\n",
    "            \"description\": \"Given the name of a company returns its ticker symbol\",\n",
    "            \"parameters\": {\n",
    "                \"type\": \"object\",\n",
    "                \"properties\": {\n",
    "                    \"company_name\": {\n",
    "                        \"type\": \"string\",\n",
    "                        \"description\": \"The name of the company\",\n",
    "                    }\n",
    "                },\n",
    "                \"required\": [\"company_name\"],\n",
    "            },\n",
    "        },\n",
    "    },\n",
    "    {\n",
    "        \"type\": \"function\",\n",
    "        \"function\": {\n",
    "            \"name\": \"get_income_statement\",\n",
    "            \"description\": \"Given a ticker symbol (i.e AAPL) returns the company's income statement.\",\n",
    "            \"parameters\": {\n",
    "                \"type\": \"object\",\n",
    "                \"properties\": {\n",
    "                    \"ticker\": {\n",
    "                        \"type\": \"string\",\n",
    "                        \"description\": \"Ticker symbol of the company\",\n",
    "                    },\n",
    "                },\n",
    "                \"required\": [\"ticker\"],\n",
    "            },\n",
    "        },\n",
    "    },\n",
    "    {\n",
    "        \"type\": \"function\",\n",
    "        \"function\": {\n",
    "            \"name\": \"get_balance_sheet\",\n",
    "            \"description\": \"Given a ticker symbol (i.e AAPL) returns the company's balance sheet.\",\n",
    "            \"parameters\": {\n",
    "                \"type\": \"object\",\n",
    "                \"properties\": {\n",
    "                    \"ticker\": {\n",
    "                        \"type\": \"string\",\n",
    "                        \"description\": \"Ticker symbol of the company\",\n",
    "                    },\n",
    "                },\n",
    "                \"required\": [\"ticker\"],\n",
    "            },\n",
    "        },\n",
    "    },\n",
    "    {\n",
    "        \"type\": \"function\",\n",
    "        \"function\": {\n",
    "            \"name\": \"get_daily_stock_performance\",\n",
    "            \"description\": \"Given a ticker symbol (i.e AAPL) returns the performance of the stock for the last 100 days.\",\n",
    "            \"parameters\": {\n",
    "                \"type\": \"object\",\n",
    "                \"properties\": {\n",
    "                    \"ticker\": {\n",
    "                        \"type\": \"string\",\n",
    "                        \"description\": \"Ticker symbol of the company\",\n",
    "                    },\n",
    "                },\n",
    "                \"required\": [\"ticker\"],\n",
    "            },\n",
    "        },\n",
    "    },\n",
    "]\n"
   ]
  },
  {
   "cell_type": "code",
   "execution_count": null,
   "metadata": {},
   "outputs": [],
   "source": []
  },
  {
   "cell_type": "code",
   "execution_count": 3,
   "metadata": {},
   "outputs": [
    {
     "data": {
      "text/plain": [
       "Assistant(id='asst_H9kqsdULnfk8Bex7gXzGxxhQ', created_at=1713061125, description=None, file_ids=[], instructions='You help users do research on publicly traded companies and you help them decide if they should buy the stock or not', metadata={}, model='gpt-4-1106-preview', name='Investor Assistant', object='assistant', tools=[FunctionTool(function=FunctionDefinition(name='get_ticker', description='Given the name of a company returns its ticker symbol', parameters={'type': 'object', 'properties': {'company_name': {'type': 'string', 'description': 'The name of the company'}}, 'required': ['company_name']}), type='function'), FunctionTool(function=FunctionDefinition(name='get_income_statement', description=\"Given a ticker symbol (i.e AAPL) returns the company's income statement.\", parameters={'type': 'object', 'properties': {'ticker': {'type': 'string', 'description': 'Ticker symbol of the company'}}, 'required': ['ticker']}), type='function'), FunctionTool(function=FunctionDefinition(name='get_balance_sheet', description=\"Given a ticker symbol (i.e AAPL) returns the company's balance sheet.\", parameters={'type': 'object', 'properties': {'ticker': {'type': 'string', 'description': 'Ticker symbol of the company'}}, 'required': ['ticker']}), type='function'), FunctionTool(function=FunctionDefinition(name='get_daily_stock_performance', description='Given a ticker symbol (i.e AAPL) returns the performance of the stock for the last 100 days.', parameters={'type': 'object', 'properties': {'ticker': {'type': 'string', 'description': 'Ticker symbol of the company'}}, 'required': ['ticker']}), type='function')])"
      ]
     },
     "execution_count": 3,
     "metadata": {},
     "output_type": "execute_result"
    }
   ],
   "source": [
    "import openai as client\n",
    "assistant = client.beta.assistants.create(\n",
    "  name=\"Investor Assistant\",\n",
    "  instructions=\"You help users do research on publicly traded companies and you help them decide if they should buy the stock or not\",\n",
    "  model=\"gpt-4-1106-preview\",\n",
    "  tools = functions,\n",
    ")\n",
    "assistant\n",
    "\n",
    "\n"
   ]
  },
  {
   "cell_type": "code",
   "execution_count": null,
   "metadata": {},
   "outputs": [],
   "source": [
    "# assistant_id=\"asst_EqFJN0EqWZq6ouTpchEgDXz0\" "
   ]
  },
  {
   "cell_type": "code",
   "execution_count": 4,
   "metadata": {},
   "outputs": [
    {
     "data": {
      "text/plain": [
       "Thread(id='thread_VTPAoB52hq9rJlTgQh7ypQRi', created_at=1713061158, metadata={}, object='thread')"
      ]
     },
     "execution_count": 4,
     "metadata": {},
     "output_type": "execute_result"
    }
   ],
   "source": [
    "thread=client.beta.threads.create(\n",
    "  messages=[\n",
    "    {\n",
    "      \"role\":\"user\",\n",
    "      \"content\":\"I want to know if the Salesforce stock is a good buy\"\n",
    "    }\n",
    "  ]\n",
    ")\n",
    "thread"
   ]
  },
  {
   "cell_type": "code",
   "execution_count": 5,
   "metadata": {},
   "outputs": [
    {
     "data": {
      "text/plain": [
       "'thread_VTPAoB52hq9rJlTgQh7ypQRi'"
      ]
     },
     "execution_count": 5,
     "metadata": {},
     "output_type": "execute_result"
    }
   ],
   "source": [
    "thread.id"
   ]
  },
  {
   "cell_type": "code",
   "execution_count": 6,
   "metadata": {},
   "outputs": [
    {
     "data": {
      "text/plain": [
       "'run_3fxQVlqZwYgymyRZjFTgTf5Y'"
      ]
     },
     "execution_count": 6,
     "metadata": {},
     "output_type": "execute_result"
    }
   ],
   "source": [
    "run = client.beta.threads.runs.create(\n",
    "  thread_id=thread.id,\n",
    "  assistant_id=assistant.id\n",
    ")\n",
    "run.id"
   ]
  },
  {
   "cell_type": "code",
   "execution_count": 7,
   "metadata": {},
   "outputs": [
    {
     "data": {
      "text/plain": [
       "'asst_H9kqsdULnfk8Bex7gXzGxxhQ'"
      ]
     },
     "execution_count": 7,
     "metadata": {},
     "output_type": "execute_result"
    }
   ],
   "source": [
    "assistant.id"
   ]
  },
  {
   "cell_type": "code",
   "execution_count": 8,
   "metadata": {},
   "outputs": [],
   "source": [
    "def get_run(run_id, thread_id):\n",
    "  return client.beta.threads.runs.retrieve(\n",
    "    run_id=run_id,\n",
    "    thread_id=thread_id\n",
    "  )\n",
    "\n",
    "def send_message(thread_id, content):\n",
    "  return client.beta.threads.messages.create(\n",
    "    thread_id=thread_id, role=\"user\", content=content\n",
    "  )\n",
    "\n",
    "def get_messages(thread_id):\n",
    "  messages = client.beta.threads.messages.list(\n",
    "    thread_id=thread_id\n",
    "  )\n",
    "\n",
    "  messages = list(messages)\n",
    "  print(messages)\n",
    "  for message in messages:\n",
    "    print(f\"{message.role}:{message.content[0].text.value}\")\n",
    "\n",
    "  print(\"===========================================\")\n",
    "  messages.reverse()\n",
    "  print(messages)\n",
    "  for message in messages:\n",
    "    print(f\"{message.role}:{message.content[0].text.value}\")\n"
   ]
  },
  {
   "cell_type": "code",
   "execution_count": 9,
   "metadata": {},
   "outputs": [
    {
     "name": "stdout",
     "output_type": "stream",
     "text": [
      "[Message(id='msg_SA02R9XLP6U4mPpIVLr7Ooi8', assistant_id=None, completed_at=None, content=[TextContentBlock(text=Text(annotations=[], value='I want to know if the Salesforce stock is a good buy'), type='text')], created_at=1713061158, file_ids=[], incomplete_at=None, incomplete_details=None, metadata={}, object='thread.message', role='user', run_id=None, status=None, thread_id='thread_VTPAoB52hq9rJlTgQh7ypQRi')]\n",
      "user:I want to know if the Salesforce stock is a good buy\n",
      "===========================================\n",
      "[Message(id='msg_SA02R9XLP6U4mPpIVLr7Ooi8', assistant_id=None, completed_at=None, content=[TextContentBlock(text=Text(annotations=[], value='I want to know if the Salesforce stock is a good buy'), type='text')], created_at=1713061158, file_ids=[], incomplete_at=None, incomplete_details=None, metadata={}, object='thread.message', role='user', run_id=None, status=None, thread_id='thread_VTPAoB52hq9rJlTgQh7ypQRi')]\n",
      "user:I want to know if the Salesforce stock is a good buy\n"
     ]
    }
   ],
   "source": [
    "get_run(run.id, thread.id).status\n",
    "# get_messages(thread.id)"
   ]
  },
  {
   "cell_type": "code",
   "execution_count": 10,
   "metadata": {},
   "outputs": [
    {
     "ename": "BadRequestError",
     "evalue": "Error code: 400 - {'error': {'message': \"Can't add messages to thread_VTPAoB52hq9rJlTgQh7ypQRi while a run run_3fxQVlqZwYgymyRZjFTgTf5Y is active.\", 'type': 'invalid_request_error', 'param': None, 'code': None}}",
     "output_type": "error",
     "traceback": [
      "\u001b[0;31m---------------------------------------------------------------------------\u001b[0m",
      "\u001b[0;31mBadRequestError\u001b[0m                           Traceback (most recent call last)",
      "Cell \u001b[0;32mIn[10], line 1\u001b[0m\n\u001b[0;32m----> 1\u001b[0m \u001b[43msend_message\u001b[49m\u001b[43m(\u001b[49m\u001b[43mthread\u001b[49m\u001b[38;5;241;43m.\u001b[39;49m\u001b[43mid\u001b[49m\u001b[43m,\u001b[49m\u001b[43m \u001b[49m\u001b[38;5;124;43m\"\u001b[39;49m\u001b[38;5;124;43mPlease go ahead\u001b[39;49m\u001b[38;5;124;43m\"\u001b[39;49m\u001b[43m)\u001b[49m\n",
      "Cell \u001b[0;32mIn[8], line 8\u001b[0m, in \u001b[0;36msend_message\u001b[0;34m(thread_id, content)\u001b[0m\n\u001b[1;32m      7\u001b[0m \u001b[38;5;28;01mdef\u001b[39;00m \u001b[38;5;21msend_message\u001b[39m(thread_id, content):\n\u001b[0;32m----> 8\u001b[0m   \u001b[38;5;28;01mreturn\u001b[39;00m \u001b[43mclient\u001b[49m\u001b[38;5;241;43m.\u001b[39;49m\u001b[43mbeta\u001b[49m\u001b[38;5;241;43m.\u001b[39;49m\u001b[43mthreads\u001b[49m\u001b[38;5;241;43m.\u001b[39;49m\u001b[43mmessages\u001b[49m\u001b[38;5;241;43m.\u001b[39;49m\u001b[43mcreate\u001b[49m\u001b[43m(\u001b[49m\n\u001b[1;32m      9\u001b[0m \u001b[43m    \u001b[49m\u001b[43mthread_id\u001b[49m\u001b[38;5;241;43m=\u001b[39;49m\u001b[43mthread_id\u001b[49m\u001b[43m,\u001b[49m\u001b[43m \u001b[49m\u001b[43mrole\u001b[49m\u001b[38;5;241;43m=\u001b[39;49m\u001b[38;5;124;43m\"\u001b[39;49m\u001b[38;5;124;43muser\u001b[39;49m\u001b[38;5;124;43m\"\u001b[39;49m\u001b[43m,\u001b[49m\u001b[43m \u001b[49m\u001b[43mcontent\u001b[49m\u001b[38;5;241;43m=\u001b[39;49m\u001b[43mcontent\u001b[49m\n\u001b[1;32m     10\u001b[0m \u001b[43m  \u001b[49m\u001b[43m)\u001b[49m\n",
      "File \u001b[0;32m~/Documents/coder/Python/fullstack-gpt-1th/env/lib/python3.11/site-packages/openai/resources/beta/threads/messages/messages.py:100\u001b[0m, in \u001b[0;36mMessages.create\u001b[0;34m(self, thread_id, content, role, file_ids, metadata, extra_headers, extra_query, extra_body, timeout)\u001b[0m\n\u001b[1;32m     98\u001b[0m     \u001b[38;5;28;01mraise\u001b[39;00m \u001b[38;5;167;01mValueError\u001b[39;00m(\u001b[38;5;124mf\u001b[39m\u001b[38;5;124m\"\u001b[39m\u001b[38;5;124mExpected a non-empty value for `thread_id` but received \u001b[39m\u001b[38;5;132;01m{\u001b[39;00mthread_id\u001b[38;5;132;01m!r}\u001b[39;00m\u001b[38;5;124m\"\u001b[39m)\n\u001b[1;32m     99\u001b[0m extra_headers \u001b[38;5;241m=\u001b[39m {\u001b[38;5;124m\"\u001b[39m\u001b[38;5;124mOpenAI-Beta\u001b[39m\u001b[38;5;124m\"\u001b[39m: \u001b[38;5;124m\"\u001b[39m\u001b[38;5;124massistants=v1\u001b[39m\u001b[38;5;124m\"\u001b[39m, \u001b[38;5;241m*\u001b[39m\u001b[38;5;241m*\u001b[39m(extra_headers \u001b[38;5;129;01mor\u001b[39;00m {})}\n\u001b[0;32m--> 100\u001b[0m \u001b[38;5;28;01mreturn\u001b[39;00m \u001b[38;5;28;43mself\u001b[39;49m\u001b[38;5;241;43m.\u001b[39;49m\u001b[43m_post\u001b[49m\u001b[43m(\u001b[49m\n\u001b[1;32m    101\u001b[0m \u001b[43m    \u001b[49m\u001b[38;5;124;43mf\u001b[39;49m\u001b[38;5;124;43m\"\u001b[39;49m\u001b[38;5;124;43m/threads/\u001b[39;49m\u001b[38;5;132;43;01m{\u001b[39;49;00m\u001b[43mthread_id\u001b[49m\u001b[38;5;132;43;01m}\u001b[39;49;00m\u001b[38;5;124;43m/messages\u001b[39;49m\u001b[38;5;124;43m\"\u001b[39;49m\u001b[43m,\u001b[49m\n\u001b[1;32m    102\u001b[0m \u001b[43m    \u001b[49m\u001b[43mbody\u001b[49m\u001b[38;5;241;43m=\u001b[39;49m\u001b[43mmaybe_transform\u001b[49m\u001b[43m(\u001b[49m\n\u001b[1;32m    103\u001b[0m \u001b[43m        \u001b[49m\u001b[43m{\u001b[49m\n\u001b[1;32m    104\u001b[0m \u001b[43m            \u001b[49m\u001b[38;5;124;43m\"\u001b[39;49m\u001b[38;5;124;43mcontent\u001b[39;49m\u001b[38;5;124;43m\"\u001b[39;49m\u001b[43m:\u001b[49m\u001b[43m \u001b[49m\u001b[43mcontent\u001b[49m\u001b[43m,\u001b[49m\n\u001b[1;32m    105\u001b[0m \u001b[43m            \u001b[49m\u001b[38;5;124;43m\"\u001b[39;49m\u001b[38;5;124;43mrole\u001b[39;49m\u001b[38;5;124;43m\"\u001b[39;49m\u001b[43m:\u001b[49m\u001b[43m \u001b[49m\u001b[43mrole\u001b[49m\u001b[43m,\u001b[49m\n\u001b[1;32m    106\u001b[0m \u001b[43m            \u001b[49m\u001b[38;5;124;43m\"\u001b[39;49m\u001b[38;5;124;43mfile_ids\u001b[39;49m\u001b[38;5;124;43m\"\u001b[39;49m\u001b[43m:\u001b[49m\u001b[43m \u001b[49m\u001b[43mfile_ids\u001b[49m\u001b[43m,\u001b[49m\n\u001b[1;32m    107\u001b[0m \u001b[43m            \u001b[49m\u001b[38;5;124;43m\"\u001b[39;49m\u001b[38;5;124;43mmetadata\u001b[39;49m\u001b[38;5;124;43m\"\u001b[39;49m\u001b[43m:\u001b[49m\u001b[43m \u001b[49m\u001b[43mmetadata\u001b[49m\u001b[43m,\u001b[49m\n\u001b[1;32m    108\u001b[0m \u001b[43m        \u001b[49m\u001b[43m}\u001b[49m\u001b[43m,\u001b[49m\n\u001b[1;32m    109\u001b[0m \u001b[43m        \u001b[49m\u001b[43mmessage_create_params\u001b[49m\u001b[38;5;241;43m.\u001b[39;49m\u001b[43mMessageCreateParams\u001b[49m\u001b[43m,\u001b[49m\n\u001b[1;32m    110\u001b[0m \u001b[43m    \u001b[49m\u001b[43m)\u001b[49m\u001b[43m,\u001b[49m\n\u001b[1;32m    111\u001b[0m \u001b[43m    \u001b[49m\u001b[43moptions\u001b[49m\u001b[38;5;241;43m=\u001b[39;49m\u001b[43mmake_request_options\u001b[49m\u001b[43m(\u001b[49m\n\u001b[1;32m    112\u001b[0m \u001b[43m        \u001b[49m\u001b[43mextra_headers\u001b[49m\u001b[38;5;241;43m=\u001b[39;49m\u001b[43mextra_headers\u001b[49m\u001b[43m,\u001b[49m\u001b[43m \u001b[49m\u001b[43mextra_query\u001b[49m\u001b[38;5;241;43m=\u001b[39;49m\u001b[43mextra_query\u001b[49m\u001b[43m,\u001b[49m\u001b[43m \u001b[49m\u001b[43mextra_body\u001b[49m\u001b[38;5;241;43m=\u001b[39;49m\u001b[43mextra_body\u001b[49m\u001b[43m,\u001b[49m\u001b[43m \u001b[49m\u001b[43mtimeout\u001b[49m\u001b[38;5;241;43m=\u001b[39;49m\u001b[43mtimeout\u001b[49m\n\u001b[1;32m    113\u001b[0m \u001b[43m    \u001b[49m\u001b[43m)\u001b[49m\u001b[43m,\u001b[49m\n\u001b[1;32m    114\u001b[0m \u001b[43m    \u001b[49m\u001b[43mcast_to\u001b[49m\u001b[38;5;241;43m=\u001b[39;49m\u001b[43mMessage\u001b[49m\u001b[43m,\u001b[49m\n\u001b[1;32m    115\u001b[0m \u001b[43m\u001b[49m\u001b[43m)\u001b[49m\n",
      "File \u001b[0;32m~/Documents/coder/Python/fullstack-gpt-1th/env/lib/python3.11/site-packages/openai/_base_client.py:1233\u001b[0m, in \u001b[0;36mSyncAPIClient.post\u001b[0;34m(self, path, cast_to, body, options, files, stream, stream_cls)\u001b[0m\n\u001b[1;32m   1219\u001b[0m \u001b[38;5;28;01mdef\u001b[39;00m \u001b[38;5;21mpost\u001b[39m(\n\u001b[1;32m   1220\u001b[0m     \u001b[38;5;28mself\u001b[39m,\n\u001b[1;32m   1221\u001b[0m     path: \u001b[38;5;28mstr\u001b[39m,\n\u001b[0;32m   (...)\u001b[0m\n\u001b[1;32m   1228\u001b[0m     stream_cls: \u001b[38;5;28mtype\u001b[39m[_StreamT] \u001b[38;5;241m|\u001b[39m \u001b[38;5;28;01mNone\u001b[39;00m \u001b[38;5;241m=\u001b[39m \u001b[38;5;28;01mNone\u001b[39;00m,\n\u001b[1;32m   1229\u001b[0m ) \u001b[38;5;241m-\u001b[39m\u001b[38;5;241m>\u001b[39m ResponseT \u001b[38;5;241m|\u001b[39m _StreamT:\n\u001b[1;32m   1230\u001b[0m     opts \u001b[38;5;241m=\u001b[39m FinalRequestOptions\u001b[38;5;241m.\u001b[39mconstruct(\n\u001b[1;32m   1231\u001b[0m         method\u001b[38;5;241m=\u001b[39m\u001b[38;5;124m\"\u001b[39m\u001b[38;5;124mpost\u001b[39m\u001b[38;5;124m\"\u001b[39m, url\u001b[38;5;241m=\u001b[39mpath, json_data\u001b[38;5;241m=\u001b[39mbody, files\u001b[38;5;241m=\u001b[39mto_httpx_files(files), \u001b[38;5;241m*\u001b[39m\u001b[38;5;241m*\u001b[39moptions\n\u001b[1;32m   1232\u001b[0m     )\n\u001b[0;32m-> 1233\u001b[0m     \u001b[38;5;28;01mreturn\u001b[39;00m cast(ResponseT, \u001b[38;5;28;43mself\u001b[39;49m\u001b[38;5;241;43m.\u001b[39;49m\u001b[43mrequest\u001b[49m\u001b[43m(\u001b[49m\u001b[43mcast_to\u001b[49m\u001b[43m,\u001b[49m\u001b[43m \u001b[49m\u001b[43mopts\u001b[49m\u001b[43m,\u001b[49m\u001b[43m \u001b[49m\u001b[43mstream\u001b[49m\u001b[38;5;241;43m=\u001b[39;49m\u001b[43mstream\u001b[49m\u001b[43m,\u001b[49m\u001b[43m \u001b[49m\u001b[43mstream_cls\u001b[49m\u001b[38;5;241;43m=\u001b[39;49m\u001b[43mstream_cls\u001b[49m\u001b[43m)\u001b[49m)\n",
      "File \u001b[0;32m~/Documents/coder/Python/fullstack-gpt-1th/env/lib/python3.11/site-packages/openai/_base_client.py:922\u001b[0m, in \u001b[0;36mSyncAPIClient.request\u001b[0;34m(self, cast_to, options, remaining_retries, stream, stream_cls)\u001b[0m\n\u001b[1;32m    913\u001b[0m \u001b[38;5;28;01mdef\u001b[39;00m \u001b[38;5;21mrequest\u001b[39m(\n\u001b[1;32m    914\u001b[0m     \u001b[38;5;28mself\u001b[39m,\n\u001b[1;32m    915\u001b[0m     cast_to: Type[ResponseT],\n\u001b[0;32m   (...)\u001b[0m\n\u001b[1;32m    920\u001b[0m     stream_cls: \u001b[38;5;28mtype\u001b[39m[_StreamT] \u001b[38;5;241m|\u001b[39m \u001b[38;5;28;01mNone\u001b[39;00m \u001b[38;5;241m=\u001b[39m \u001b[38;5;28;01mNone\u001b[39;00m,\n\u001b[1;32m    921\u001b[0m ) \u001b[38;5;241m-\u001b[39m\u001b[38;5;241m>\u001b[39m ResponseT \u001b[38;5;241m|\u001b[39m _StreamT:\n\u001b[0;32m--> 922\u001b[0m     \u001b[38;5;28;01mreturn\u001b[39;00m \u001b[38;5;28;43mself\u001b[39;49m\u001b[38;5;241;43m.\u001b[39;49m\u001b[43m_request\u001b[49m\u001b[43m(\u001b[49m\n\u001b[1;32m    923\u001b[0m \u001b[43m        \u001b[49m\u001b[43mcast_to\u001b[49m\u001b[38;5;241;43m=\u001b[39;49m\u001b[43mcast_to\u001b[49m\u001b[43m,\u001b[49m\n\u001b[1;32m    924\u001b[0m \u001b[43m        \u001b[49m\u001b[43moptions\u001b[49m\u001b[38;5;241;43m=\u001b[39;49m\u001b[43moptions\u001b[49m\u001b[43m,\u001b[49m\n\u001b[1;32m    925\u001b[0m \u001b[43m        \u001b[49m\u001b[43mstream\u001b[49m\u001b[38;5;241;43m=\u001b[39;49m\u001b[43mstream\u001b[49m\u001b[43m,\u001b[49m\n\u001b[1;32m    926\u001b[0m \u001b[43m        \u001b[49m\u001b[43mstream_cls\u001b[49m\u001b[38;5;241;43m=\u001b[39;49m\u001b[43mstream_cls\u001b[49m\u001b[43m,\u001b[49m\n\u001b[1;32m    927\u001b[0m \u001b[43m        \u001b[49m\u001b[43mremaining_retries\u001b[49m\u001b[38;5;241;43m=\u001b[39;49m\u001b[43mremaining_retries\u001b[49m\u001b[43m,\u001b[49m\n\u001b[1;32m    928\u001b[0m \u001b[43m    \u001b[49m\u001b[43m)\u001b[49m\n",
      "File \u001b[0;32m~/Documents/coder/Python/fullstack-gpt-1th/env/lib/python3.11/site-packages/openai/_base_client.py:1013\u001b[0m, in \u001b[0;36mSyncAPIClient._request\u001b[0;34m(self, cast_to, options, remaining_retries, stream, stream_cls)\u001b[0m\n\u001b[1;32m   1010\u001b[0m         err\u001b[38;5;241m.\u001b[39mresponse\u001b[38;5;241m.\u001b[39mread()\n\u001b[1;32m   1012\u001b[0m     log\u001b[38;5;241m.\u001b[39mdebug(\u001b[38;5;124m\"\u001b[39m\u001b[38;5;124mRe-raising status error\u001b[39m\u001b[38;5;124m\"\u001b[39m)\n\u001b[0;32m-> 1013\u001b[0m     \u001b[38;5;28;01mraise\u001b[39;00m \u001b[38;5;28mself\u001b[39m\u001b[38;5;241m.\u001b[39m_make_status_error_from_response(err\u001b[38;5;241m.\u001b[39mresponse) \u001b[38;5;28;01mfrom\u001b[39;00m \u001b[38;5;28;01mNone\u001b[39;00m\n\u001b[1;32m   1015\u001b[0m \u001b[38;5;28;01mreturn\u001b[39;00m \u001b[38;5;28mself\u001b[39m\u001b[38;5;241m.\u001b[39m_process_response(\n\u001b[1;32m   1016\u001b[0m     cast_to\u001b[38;5;241m=\u001b[39mcast_to,\n\u001b[1;32m   1017\u001b[0m     options\u001b[38;5;241m=\u001b[39moptions,\n\u001b[0;32m   (...)\u001b[0m\n\u001b[1;32m   1020\u001b[0m     stream_cls\u001b[38;5;241m=\u001b[39mstream_cls,\n\u001b[1;32m   1021\u001b[0m )\n",
      "\u001b[0;31mBadRequestError\u001b[0m: Error code: 400 - {'error': {'message': \"Can't add messages to thread_VTPAoB52hq9rJlTgQh7ypQRi while a run run_3fxQVlqZwYgymyRZjFTgTf5Y is active.\", 'type': 'invalid_request_error', 'param': None, 'code': None}}"
     ]
    }
   ],
   "source": [
    "\n",
    "send_message(thread.id, \"Please go ahead\")"
   ]
  },
  {
   "cell_type": "code",
   "execution_count": 13,
   "metadata": {},
   "outputs": [
    {
     "data": {
      "text/plain": [
       "Run(id='run_3fxQVlqZwYgymyRZjFTgTf5Y', assistant_id='asst_H9kqsdULnfk8Bex7gXzGxxhQ', cancelled_at=None, completed_at=None, created_at=1713061187, expires_at=1713061787, failed_at=None, file_ids=[], instructions='You help users do research on publicly traded companies and you help them decide if they should buy the stock or not', last_error=None, metadata={}, model='gpt-4-1106-preview', object='thread.run', required_action=RequiredAction(submit_tool_outputs=RequiredActionSubmitToolOutputs(tool_calls=[RequiredActionFunctionToolCall(id='call_ZQ9beZns6oFFr6OFK0qk9ONW', function=Function(arguments='{\"company_name\":\"Salesforce\"}', name='get_ticker'), type='function')]), type='submit_tool_outputs'), started_at=1713061187, status='requires_action', thread_id='thread_VTPAoB52hq9rJlTgQh7ypQRi', tools=[FunctionTool(function=FunctionDefinition(name='get_ticker', description='Given the name of a company returns its ticker symbol', parameters={'type': 'object', 'properties': {'company_name': {'type': 'string', 'description': 'The name of the company'}}, 'required': ['company_name']}), type='function'), FunctionTool(function=FunctionDefinition(name='get_income_statement', description=\"Given a ticker symbol (i.e AAPL) returns the company's income statement.\", parameters={'type': 'object', 'properties': {'ticker': {'type': 'string', 'description': 'Ticker symbol of the company'}}, 'required': ['ticker']}), type='function'), FunctionTool(function=FunctionDefinition(name='get_balance_sheet', description=\"Given a ticker symbol (i.e AAPL) returns the company's balance sheet.\", parameters={'type': 'object', 'properties': {'ticker': {'type': 'string', 'description': 'Ticker symbol of the company'}}, 'required': ['ticker']}), type='function'), FunctionTool(function=FunctionDefinition(name='get_daily_stock_performance', description='Given a ticker symbol (i.e AAPL) returns the performance of the stock for the last 100 days.', parameters={'type': 'object', 'properties': {'ticker': {'type': 'string', 'description': 'Ticker symbol of the company'}}, 'required': ['ticker']}), type='function')], usage=None, temperature=1.0, max_completion_tokens=None, max_prompt_tokens=None, truncation_strategy={'type': 'auto', 'last_messages': None}, incomplete_details=None, response_format='auto', tool_choice='auto')"
      ]
     },
     "execution_count": 13,
     "metadata": {},
     "output_type": "execute_result"
    }
   ],
   "source": [
    "run_status = client.beta.threads.runs.retrieve(thread_id=thread.id, run_id=run.id)\n",
    "run_status"
   ]
  },
  {
   "cell_type": "code",
   "execution_count": null,
   "metadata": {},
   "outputs": [],
   "source": []
  },
  {
   "cell_type": "code",
   "execution_count": 67,
   "metadata": {},
   "outputs": [
    {
     "name": "stdout",
     "output_type": "stream",
     "text": [
      "[Message(id='msg_lk5wwj2gv5YbtS8D2B4JgFqf', assistant_id=None, completed_at=None, content=[TextContentBlock(text=Text(annotations=[], value='I want to know if the Salesforce stock is a good buy'), type='text')], created_at=1713059296, file_ids=[], incomplete_at=None, incomplete_details=None, metadata={}, object='thread.message', role='user', run_id=None, status=None, thread_id='thread_BUQoDvLOf5iMufSoT6HSrHoR')]\n",
      "user:I want to know if the Salesforce stock is a good buy\n",
      "===========================================\n",
      "[Message(id='msg_lk5wwj2gv5YbtS8D2B4JgFqf', assistant_id=None, completed_at=None, content=[TextContentBlock(text=Text(annotations=[], value='I want to know if the Salesforce stock is a good buy'), type='text')], created_at=1713059296, file_ids=[], incomplete_at=None, incomplete_details=None, metadata={}, object='thread.message', role='user', run_id=None, status=None, thread_id='thread_BUQoDvLOf5iMufSoT6HSrHoR')]\n",
      "user:I want to know if the Salesforce stock is a good buy\n"
     ]
    }
   ],
   "source": [
    "get_messages(thread.id)"
   ]
  },
  {
   "cell_type": "code",
   "execution_count": 5,
   "metadata": {},
   "outputs": [
    {
     "data": {
      "text/plain": [
       "'\"{\\\\\"1703980800000\\\\\":{\\\\\"Tax Effect Of Unusual Items\\\\\":-10563000.0,\\\\\"Tax Rate For Calcs\\\\\":0.21,\\\\\"Normalized EBITDA\\\\\":14130000.0,\\\\\"Total Unusual Items\\\\\":-50300000.0,\\\\\"Total Unusual Items Excluding Goodwill\\\\\":-50300000.0,\\\\\"Net Income From Continuing Operation Net Minority Interest\\\\\":-183949000.0,\\\\\"Reconciled Depreciation\\\\\":135820000.0,\\\\\"Reconciled Cost Of Revenue\\\\\":307005000.0,\\\\\"EBITDA\\\\\":-36170000.0,\\\\\"EBIT\\\\\":-171990000.0,\\\\\"Net Interest Income\\\\\":62295000.0,\\\\\"Interest Expense\\\\\":5872000.0,\\\\\"Interest Income\\\\\":68167000.0,\\\\\"Normalized Income\\\\\":-144212000.0,\\\\\"Net Income From Continuing And Discontinued Operation\\\\\":-183949000.0,\\\\\"Total Expenses\\\\\":1482230000.0,\\\\\"Total Operating Income As Reported\\\\\":-185485000.0,\\\\\"Diluted Average Shares\\\\\":333656000.0,\\\\\"Basic Average Shares\\\\\":333656000.0,\\\\\"Diluted EPS\\\\\":-0.55,\\\\\"Basic EPS\\\\\":-0.55,\\\\\"Diluted NI Availto Com Stockholders\\\\\":-183949000.0,\\\\\"Net Income Common Stockholders\\\\\":-183949000.0,\\\\\"Net Income\\\\\":-183949000.0,\\\\\"Net Income Including Noncontrolling Interests\\\\\":-183949000.0,\\\\\"Net Income Continuous Operations\\\\\":-183949000.0,\\\\\"Tax Provision\\\\\":6087000.0,\\\\\"Pretax Income\\\\\":-177862000.0,\\\\\"Other Income Expense\\\\\":-54672000.0,\\\\\"Other Non Operating Income Expenses\\\\\":-4372000.0,\\\\\"Special Income Charges\\\\\":-50300000.0,\\\\\"Other Special Charges\\\\\":50300000.0,\\\\\"Net Non Operating Interest Income Expense\\\\\":62295000.0,\\\\\"Interest Expense Non Operating\\\\\":5872000.0,\\\\\"Interest Income Non Operating\\\\\":68167000.0,\\\\\"Operating Income\\\\\":-185485000.0,\\\\\"Operating Expense\\\\\":1175225000.0,\\\\\"Research And Development\\\\\":358143000.0,\\\\\"Selling General And Administration\\\\\":817082000.0,\\\\\"Selling And Marketing Expense\\\\\":599117000.0,\\\\\"General And Administrative Expense\\\\\":217965000.0,\\\\\"Other Gand A\\\\\":217965000.0,\\\\\"Gross Profit\\\\\":989740000.0,\\\\\"Cost Of Revenue\\\\\":307005000.0,\\\\\"Total Revenue\\\\\":1296745000.0,\\\\\"Operating Revenue\\\\\":1296745000.0},\\\\\"1672444800000\\\\\":{\\\\\"Tax Effect Of Unusual Items\\\\\":0.0,\\\\\"Tax Rate For Calcs\\\\\":0.21,\\\\\"Normalized EBITDA\\\\\":-83414000.0,\\\\\"Total Unusual Items\\\\\":0.0,\\\\\"Total Unusual Items Excluding Goodwill\\\\\":0.0,\\\\\"Net Income From Continuing Operation Net Minority Interest\\\\\":-193381000.0,\\\\\"Reconciled Depreciation\\\\\":102335000.0,\\\\\"Reconciled Cost Of Revenue\\\\\":232610000.0,\\\\\"EBITDA\\\\\":-83414000.0,\\\\\"EBIT\\\\\":-185749000.0,\\\\\"Net Interest Income\\\\\":9893000.0,\\\\\"Interest Expense\\\\\":4984000.0,\\\\\"Interest Income\\\\\":14877000.0,\\\\\"Normalized Income\\\\\":-193381000.0,\\\\\"Net Income From Continuing And Discontinued Operation\\\\\":-193381000.0,\\\\\"Total Expenses\\\\\":1176444000.0,\\\\\"Total Operating Income As Reported\\\\\":-201203000.0,\\\\\"Diluted Average Shares\\\\\":326332000.0,\\\\\"Basic Average Shares\\\\\":326332000.0,\\\\\"Diluted EPS\\\\\":-0.59,\\\\\"Basic EPS\\\\\":-0.59,\\\\\"Diluted NI Availto Com Stockholders\\\\\":-193381000.0,\\\\\"Net Income Common Stockholders\\\\\":-193381000.0,\\\\\"Net Income\\\\\":-193381000.0,\\\\\"Net Income Including Noncontrolling Interests\\\\\":-193381000.0,\\\\\"Net Income Continuous Operations\\\\\":-193381000.0,\\\\\"Tax Provision\\\\\":2648000.0,\\\\\"Pretax Income\\\\\":-190733000.0,\\\\\"Other Income Expense\\\\\":577000.0,\\\\\"Other Non Operating Income Expenses\\\\\":577000.0,\\\\\"Special Income Charges\\\\\":0.0,\\\\\"Other Special Charges\\\\\":null,\\\\\"Net Non Operating Interest Income Expense\\\\\":9893000.0,\\\\\"Interest Expense Non Operating\\\\\":4984000.0,\\\\\"Interest Income Non Operating\\\\\":14877000.0,\\\\\"Operating Income\\\\\":-201203000.0,\\\\\"Operating Expense\\\\\":943834000.0,\\\\\"Research And Development\\\\\":298303000.0,\\\\\"Selling General And Administration\\\\\":645531000.0,\\\\\"Selling And Marketing Expense\\\\\":465762000.0,\\\\\"General And Administrative Expense\\\\\":179769000.0,\\\\\"Other Gand A\\\\\":179769000.0,\\\\\"Gross Profit\\\\\":742631000.0,\\\\\"Cost Of Revenue\\\\\":232610000.0,\\\\\"Total Revenue\\\\\":975241000.0,\\\\\"Operating Revenue\\\\\":975241000.0},\\\\\"1640908800000\\\\\":{\\\\\"Tax Effect Of Unusual Items\\\\\":-19503180.0,\\\\\"Tax Rate For Calcs\\\\\":0.27,\\\\\"Normalized EBITDA\\\\\":-59901000.0,\\\\\"Total Unusual Items\\\\\":-72234000.0,\\\\\"Total Unusual Items Excluding Goodwill\\\\\":-72234000.0,\\\\\"Net Income From Continuing Operation Net Minority Interest\\\\\":-260309000.0,\\\\\"Reconciled Depreciation\\\\\":66607000.0,\\\\\"Reconciled Cost Of Revenue\\\\\":147134000.0,\\\\\"EBITDA\\\\\":-132135000.0,\\\\\"EBIT\\\\\":-198742000.0,\\\\\"Net Interest Income\\\\\":-47264000.0,\\\\\"Interest Expense\\\\\":49234000.0,\\\\\"Interest Income\\\\\":1970000.0,\\\\\"Normalized Income\\\\\":-207578180.0,\\\\\"Net Income From Continuing And Discontinued Operation\\\\\":-260309000.0,\\\\\"Total Expenses\\\\\":784110000.0,\\\\\"Total Operating Income As Reported\\\\\":-127684000.0,\\\\\"Diluted Average Shares\\\\\":312321000.0,\\\\\"Basic Average Shares\\\\\":312321000.0,\\\\\"Diluted EPS\\\\\":-0.83,\\\\\"Basic EPS\\\\\":-0.83,\\\\\"Diluted NI Availto Com Stockholders\\\\\":-260309000.0,\\\\\"Net Income Common Stockholders\\\\\":-260309000.0,\\\\\"Net Income\\\\\":-260309000.0,\\\\\"Net Income Including Noncontrolling Interests\\\\\":-260309000.0,\\\\\"Net Income Continuous Operations\\\\\":-260309000.0,\\\\\"Tax Provision\\\\\":12333000.0,\\\\\"Pretax Income\\\\\":-247976000.0,\\\\\"Other Income Expense\\\\\":-73028000.0,\\\\\"Other Non Operating Income Expenses\\\\\":-794000.0,\\\\\"Special Income Charges\\\\\":-72234000.0,\\\\\"Other Special Charges\\\\\":72234000.0,\\\\\"Net Non Operating Interest Income Expense\\\\\":-47264000.0,\\\\\"Interest Expense Non Operating\\\\\":49234000.0,\\\\\"Interest Income Non Operating\\\\\":1970000.0,\\\\\"Operating Income\\\\\":-127684000.0,\\\\\"Operating Expense\\\\\":636976000.0,\\\\\"Research And Development\\\\\":189408000.0,\\\\\"Selling General And Administration\\\\\":447568000.0,\\\\\"Selling And Marketing Expense\\\\\":328065000.0,\\\\\"General And Administrative Expense\\\\\":119503000.0,\\\\\"Other Gand A\\\\\":119503000.0,\\\\\"Gross Profit\\\\\":509292000.0,\\\\\"Cost Of Revenue\\\\\":147134000.0,\\\\\"Total Revenue\\\\\":656426000.0,\\\\\"Operating Revenue\\\\\":656426000.0},\\\\\"1609372800000\\\\\":{\\\\\"Tax Effect Of Unusual Items\\\\\":0.0,\\\\\"Tax Rate For Calcs\\\\\":0.045,\\\\\"Normalized EBITDA\\\\\":-50622000.0,\\\\\"Total Unusual Items\\\\\":0.0,\\\\\"Total Unusual Items Excluding Goodwill\\\\\":0.0,\\\\\"Net Income From Continuing Operation Net Minority Interest\\\\\":-119370000.0,\\\\\"Reconciled Depreciation\\\\\":49387000.0,\\\\\"Reconciled Cost Of Revenue\\\\\":101055000.0,\\\\\"EBITDA\\\\\":-50622000.0,\\\\\"EBIT\\\\\":-100009000.0,\\\\\"Net Interest Income\\\\\":-18376000.0,\\\\\"Interest Expense\\\\\":24964000.0,\\\\\"Interest Income\\\\\":6588000.0,\\\\\"Normalized Income\\\\\":-119370000.0,\\\\\"Net Income From Continuing And Discontinued Operation\\\\\":-119370000.0,\\\\\"Total Expenses\\\\\":537827000.0,\\\\\"Total Operating Income As Reported\\\\\":-106768000.0,\\\\\"Diluted Average Shares\\\\\":299774000.0,\\\\\"Basic Average Shares\\\\\":299774000.0,\\\\\"Diluted EPS\\\\\":-0.4,\\\\\"Basic EPS\\\\\":-0.4,\\\\\"Diluted NI Availto Com Stockholders\\\\\":-119370000.0,\\\\\"Net Income Common Stockholders\\\\\":-119370000.0,\\\\\"Net Income\\\\\":-119370000.0,\\\\\"Net Income Including Noncontrolling Interests\\\\\":-119370000.0,\\\\\"Net Income Continuous Operations\\\\\":-119370000.0,\\\\\"Tax Provision\\\\\":-5603000.0,\\\\\"Pretax Income\\\\\":-124973000.0,\\\\\"Other Income Expense\\\\\":171000.0,\\\\\"Other Non Operating Income Expenses\\\\\":171000.0,\\\\\"Special Income Charges\\\\\":0.0,\\\\\"Other Special Charges\\\\\":null,\\\\\"Net Non Operating Interest Income Expense\\\\\":-18376000.0,\\\\\"Interest Expense Non Operating\\\\\":24964000.0,\\\\\"Interest Income Non Operating\\\\\":6588000.0,\\\\\"Operating Income\\\\\":-106768000.0,\\\\\"Operating Expense\\\\\":436772000.0,\\\\\"Research And Development\\\\\":127144000.0,\\\\\"Selling General And Administration\\\\\":309628000.0,\\\\\"Selling And Marketing Expense\\\\\":217875000.0,\\\\\"General And Administrative Expense\\\\\":91753000.0,\\\\\"Other Gand A\\\\\":91753000.0,\\\\\"Gross Profit\\\\\":330004000.0,\\\\\"Cost Of Revenue\\\\\":101055000.0,\\\\\"Total Revenue\\\\\":431059000.0,\\\\\"Operating Revenue\\\\\":431059000.0}}\"'"
      ]
     },
     "execution_count": 5,
     "metadata": {},
     "output_type": "execute_result"
    }
   ],
   "source": [
    "# get_ticker({\"company_name\":\"Cloudflare\"})\n",
    "get_income_statement({\"ticker\":\"NET\"})\n"
   ]
  }
 ],
 "metadata": {
  "kernelspec": {
   "display_name": "env",
   "language": "python",
   "name": "python3"
  },
  "language_info": {
   "codemirror_mode": {
    "name": "ipython",
    "version": 3
   },
   "file_extension": ".py",
   "mimetype": "text/x-python",
   "name": "python",
   "nbconvert_exporter": "python",
   "pygments_lexer": "ipython3",
   "version": "3.11.7"
  }
 },
 "nbformat": 4,
 "nbformat_minor": 2
}
